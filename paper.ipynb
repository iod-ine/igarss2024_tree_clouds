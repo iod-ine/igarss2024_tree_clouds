{
 "cells": [
  {
   "cell_type": "raw",
   "id": "918efd7d-248c-4a9e-9d1e-1e2b4755984d",
   "metadata": {},
   "source": [
    "---\n",
    "title: |\n",
    "    An exploration of properties of point clouds of individual trees extracted from a\n",
    "    larger UAV LiDAR survey\n",
    "abstract: |\n",
    "    This study aims to explore the properties of point clouds of individual trees\n",
    "    manually extracted from a large UAV LiDAR survey over a dense mixed forest. The\n",
    "    dataset contains 192 trees of seven species, with an approximately even mix of\n",
    "    deciduous and coniferous trees, which proves to be very limiting. Two experiments\n",
    "    are described. The first is aimed at setting up an approach to help gain intuition\n",
    "    about manual features used in classical machine learning on point clouds. Example\n",
    "    visualizations are provided to demonstrate the effectiveness. The second is aimed at\n",
    "    assessing the viability of approximating average tree shapes by estimating the\n",
    "    kernel density of three-dimensional distributions of point coordinates. It shows\n",
    "    relatively good overall accuracy in binary classification, but is unreliable in the\n",
    "    multiclass setting and too slow. The dataset and the code are freely accessible\n",
    "    through Kaggle.\n",
    "bibliography: bibliography.bib\n",
    "execute:\n",
    "    enable: true\n",
    "    echo: false\n",
    "---"
   ]
  },
  {
   "cell_type": "markdown",
   "id": "db4fe29c-e991-47f5-8910-6f00fdd18887",
   "metadata": {},
   "source": [
    "# Introduction\n",
    "\n",
    "The demand for detailed forest inventories is growing, fueled by the need for quality\n",
    "data for harvest and afforestation planning, sustainable forest management and\n",
    "conservation, modeling of carbon stock and carbon cycles, and more.\n",
    "The increasing accessibility of UAVs and LiDAR sensors makes UAV LiDAR an ever more\n",
    "valuable tool for conducting such inventories.\n",
    "The technical characteristics of modern sensors alalow for very dense measurements,\n",
    "which in turn introduce a shift from the area-based approach [@whiteABAGuide2013]\n",
    "dominating early research and applications of LiDAR in forestry and still widely used in\n",
    "the industry to an individual tree-based approach.\n",
    "This shift brings the requirement for algorithms for automatic detection and\n",
    "segmentation of individual trees within larger point clouds.\n",
    "This problem can be solved well for forest stands that are either predominantly\n",
    "coniferous or sparse, even by simple local maxima detection algorithms on rasterized\n",
    "point clouds [@eysnAlpineITDBenchmark2015].\n",
    "However, it remains an open challenge to develop a universal, robust detection approach\n",
    "for dense mixed forests, in which the canopy structure is complex.\n",
    "There is a growing body of research on developing and applying more complex and precise\n",
    "methods, but most results that can be considered successful from the industrial adoption\n",
    "point of view are in more mild forest types [@balsiSingletreeDetectionHighdensity2018,\n",
    "@jeronimoApplyingLiDARIndividual2018].\n",
    "\n",
    "In this study, we try to gain insight into the problem of tree detection and\n",
    "segmentation by looking at its expected output. We analyze a collection of individual\n",
    "trees manually identified in the large survey data over a dense mixed forest and explore\n",
    "their features and properties."
   ]
  },
  {
   "cell_type": "code",
   "execution_count": 1,
   "id": "efe1b07c-4e95-4fb6-ba26-0a36473ff2f6",
   "metadata": {},
   "outputs": [],
   "source": [
    "#| label: imports\n",
    "\n",
    "import glob\n",
    "\n",
    "import laspy\n",
    "import matplotlib.pyplot as plt\n",
    "import numpy as np\n",
    "import pandas as pd\n",
    "import seaborn as sns"
   ]
  },
  {
   "cell_type": "code",
   "execution_count": 2,
   "id": "f0a50ea6-38ac-43ae-9db0-6365720d4fcd",
   "metadata": {},
   "outputs": [],
   "source": [
    "#| label: prepare-data\n",
    "\n",
    "file_paths = glob.glob(\"data/*/*.las\")\n",
    "file_paths.sort()\n",
    "\n",
    "data = pd.DataFrame({\"path\": file_paths})\n",
    "data[\"species\"] = data[\"path\"].map(lambda p: p.split(\"/\")[-2])"
   ]
  }
 ],
 "metadata": {
  "kernelspec": {
   "display_name": "IGARSS 2024",
   "language": "python",
   "name": "igarss2024"
  },
  "language_info": {
   "codemirror_mode": {
    "name": "ipython",
    "version": 3
   },
   "file_extension": ".py",
   "mimetype": "text/x-python",
   "name": "python",
   "nbconvert_exporter": "python",
   "pygments_lexer": "ipython3",
   "version": "3.10.13"
  }
 },
 "nbformat": 4,
 "nbformat_minor": 5
}
